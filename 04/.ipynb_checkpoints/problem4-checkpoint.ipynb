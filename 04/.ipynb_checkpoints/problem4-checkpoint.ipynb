{
 "cells": [
  {
   "cell_type": "code",
   "execution_count": null,
   "metadata": {},
   "outputs": [],
   "source": [
    "with open(\"input.txt\", \"r\") as fin:\n",
    "    lines = map(str.strip, fin.readlines())"
   ]
  },
  {
   "cell_type": "code",
   "execution_count": null,
   "metadata": {},
   "outputs": [],
   "source": [
    "passports = []\n",
    "passport = []\n",
    "for i, line in enumerate(lines):    \n",
    "    if line != \"\":\n",
    "        passport.append(line)\n",
    "    if line == \"\" or i + 1 == len(lines):\n",
    "        passports.append(passport)\n",
    "        passport = []"
   ]
  },
  {
   "cell_type": "code",
   "execution_count": null,
   "metadata": {},
   "outputs": [],
   "source": [
    "FIELDS = [\"byr\", \"iyr\", \"eyr\", \"hgt\", \"hcl\", \"ecl\", \"pid\"]\n",
    "COLORS = [\"amb\", \"blu\", \"brn\", \"gry\", \"grn\", \"hzl\", \"oth\"]\n",
    "\n",
    "def is_in_int_range(value_str, min_value, max_value):\n",
    "    try:\n",
    "        value = int(value_str)\n",
    "    except Exception as ex:\n",
    "        return False\n",
    "    return value >= min_value and value <= max_value\n",
    "\n",
    "def is_valid_height(value_str):\n",
    "    if len(value_str) < 3:\n",
    "        return False\n",
    "    \n",
    "    if value_str[-2:] == \"cm\":\n",
    "        return is_in_int_range(value_str[:-2], 150, 193)\n",
    "    elif value_str[-2:] == \"in\":\n",
    "        return is_in_int_range(value_str[:-2], 59, 76)\n",
    "    return False\n",
    "\n",
    "def is_valid_color(value_str):\n",
    "    if len(value_str) != 7 or value_str[0] != '#':\n",
    "        return False\n",
    "    try:\n",
    "        int(value_str[1:], 16)\n",
    "    except Exception as ex:\n",
    "        return False\n",
    "    return True\n",
    "    \n",
    "def is_valid_passport_number(value_str):\n",
    "    if len(value_str) != 9:\n",
    "        return False\n",
    "    return is_in_int_range(value_str, 0, 1e10)\n",
    "\n",
    "\n",
    "res1, res2 = 0, 0\n",
    "for p in passports:    \n",
    "    params = dict(kv.split(\":\") for line in p for kv in line.split())\n",
    "    isValid = len([pn for pn in FIELDS if pn not in params]) == 0\n",
    "    \n",
    "    isValid2 = isValid and \\\n",
    "            is_in_int_range(params[\"byr\"], 1920, 2002) and \\\n",
    "            is_in_int_range(params[\"iyr\"], 2010, 2020) and \\\n",
    "            is_in_int_range(params[\"eyr\"], 2020, 2030) and \\\n",
    "            is_valid_height(params[\"hgt\"]) and \\\n",
    "            is_valid_color(params[\"hcl\"]) and \\\n",
    "            params[\"ecl\"] in COLORS and \\\n",
    "            is_valid_passport_number(params[\"pid\"])\n",
    "    \n",
    "    if isValid:\n",
    "        res1 += 1\n",
    "    if isValid2:\n",
    "        res2 += 1\n",
    "            \n",
    "print res1, res2"
   ]
  }
 ],
 "metadata": {
  "hide_input": false,
  "kernelspec": {
   "display_name": "Python 2",
   "language": "python",
   "name": "python2"
  },
  "language_info": {
   "codemirror_mode": {
    "name": "ipython",
    "version": 2
   },
   "file_extension": ".py",
   "mimetype": "text/x-python",
   "name": "python",
   "nbconvert_exporter": "python",
   "pygments_lexer": "ipython2",
   "version": "2.7.17"
  }
 },
 "nbformat": 4,
 "nbformat_minor": 2
}
