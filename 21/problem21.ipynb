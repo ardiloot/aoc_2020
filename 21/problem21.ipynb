{
 "cells": [
  {
   "cell_type": "code",
   "execution_count": null,
   "metadata": {},
   "outputs": [],
   "source": [
    "import re"
   ]
  },
  {
   "cell_type": "code",
   "execution_count": null,
   "metadata": {},
   "outputs": [],
   "source": [
    "foods = []\n",
    "for line in open(\"input.txt\", \"r\"):\n",
    "    if line.strip() == \"\":\n",
    "        break\n",
    "    i, a = re.match(\"(.*)\\(contains (.*)\\)\", line.strip()).groups()\n",
    "    foods.append((i.strip().split(\" \"), a.split(\", \")))"
   ]
  },
  {
   "cell_type": "code",
   "execution_count": null,
   "metadata": {},
   "outputs": [],
   "source": [
    "u_allergens = set()\n",
    "for _, alergens in foods:\n",
    "    for a in alergens:\n",
    "        u_allergens.add(a)\n",
    "\n",
    "known_incs = []\n",
    "known = []\n",
    "while True:\n",
    "    tmp = []\n",
    "    for allergen in u_allergens:\n",
    "        common_incs = None\n",
    "        for incs, allergens in foods:\n",
    "            if allergen in allergens:\n",
    "                unknown_incs = [i for i in incs if i not in known_incs]\n",
    "                common_incs = set(unknown_incs) if common_incs is None else common_incs.intersection(set(unknown_incs))\n",
    "        tmp.append((allergen, common_incs))\n",
    "    if len(tmp) <= 0:\n",
    "        break\n",
    "    tmp.sort(key=lambda x: len(x[1]))\n",
    "    k_allergen, k_inc = tmp[0][0], list(tmp[0][1])[0]\n",
    "    \n",
    "    u_allergens.remove(k_allergen)\n",
    "    known_incs.extend([k_inc])\n",
    "    known.append((k_allergen, k_inc))"
   ]
  },
  {
   "cell_type": "code",
   "execution_count": null,
   "metadata": {},
   "outputs": [],
   "source": [
    "# PART 1\n",
    "res = 0\n",
    "for incs, _ in foods:\n",
    "    for i in incs:\n",
    "        if i not in known_incs:\n",
    "            res += 1\n",
    "print res"
   ]
  },
  {
   "cell_type": "code",
   "execution_count": null,
   "metadata": {},
   "outputs": [],
   "source": [
    "# PART 2\n",
    "known.sort(key=lambda x: x[0])\n",
    "print \",\".join(zip(*known)[1])"
   ]
  }
 ],
 "metadata": {
  "hide_input": false,
  "kernelspec": {
   "display_name": "Python 2",
   "language": "python",
   "name": "python2"
  },
  "language_info": {
   "codemirror_mode": {
    "name": "ipython",
    "version": 2
   },
   "file_extension": ".py",
   "mimetype": "text/x-python",
   "name": "python",
   "nbconvert_exporter": "python",
   "pygments_lexer": "ipython2",
   "version": "2.7.17"
  }
 },
 "nbformat": 4,
 "nbformat_minor": 2
}
