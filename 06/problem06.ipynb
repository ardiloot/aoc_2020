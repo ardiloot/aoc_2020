{
 "cells": [
  {
   "cell_type": "code",
   "execution_count": null,
   "metadata": {},
   "outputs": [],
   "source": [
    "# Read input\n",
    "groups = [[]]\n",
    "for line in open(\"input.txt\", \"r\"):\n",
    "    if line == \"\\n\":\n",
    "        groups.append([])\n",
    "    else:\n",
    "        groups[-1].append(line.strip())"
   ]
  },
  {
   "cell_type": "code",
   "execution_count": null,
   "metadata": {},
   "outputs": [],
   "source": [
    "# Solve\n",
    "res_all, res_any = 0, 0\n",
    "for g in groups:\n",
    "    answers_any, answers_all = set(), set([chr(c + ord(\"a\")) for c in range(26)])\n",
    "    for p in g:\n",
    "        answers_all &= set(p)\n",
    "        answers_any |= set(p)\n",
    "    res_any += len(answers_any)\n",
    "    res_all += len(answers_all)\n",
    "print res_any, res_all"
   ]
  },
  {
   "cell_type": "code",
   "execution_count": null,
   "metadata": {},
   "outputs": [],
   "source": []
  },
  {
   "cell_type": "code",
   "execution_count": null,
   "metadata": {},
   "outputs": [],
   "source": []
  }
 ],
 "metadata": {
  "hide_input": false,
  "kernelspec": {
   "display_name": "Python 2",
   "language": "python",
   "name": "python2"
  },
  "language_info": {
   "codemirror_mode": {
    "name": "ipython",
    "version": 2
   },
   "file_extension": ".py",
   "mimetype": "text/x-python",
   "name": "python",
   "nbconvert_exporter": "python",
   "pygments_lexer": "ipython2",
   "version": "2.7.17"
  }
 },
 "nbformat": 4,
 "nbformat_minor": 2
}
