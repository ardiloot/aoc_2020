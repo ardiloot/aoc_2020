{
 "cells": [
  {
   "cell_type": "code",
   "execution_count": null,
   "metadata": {},
   "outputs": [],
   "source": [
    "import numpy as np"
   ]
  },
  {
   "cell_type": "code",
   "execution_count": null,
   "metadata": {},
   "outputs": [],
   "source": [
    "# PART 1\n",
    "g_input = []\n",
    "for i, line in enumerate(open(\"input.txt\", \"r\")):\n",
    "    g_input.append([ch == \"#\" for ch in line.strip()])\n",
    "g_input = np.array(g_input)[:, :, np.newaxis]\n",
    "\n",
    "g = np.full(np.array(g_input.shape) + 14, False, dtype=bool) \n",
    "g[7:-7, 7:-7, 7:-7] = g_input\n",
    "for it in range(6):\n",
    "    g_new = g.copy()\n",
    "    for i in range(1, g.shape[0] - 1):\n",
    "        for j in range(1, g.shape[1] - 1):\n",
    "            for k in range(1, g.shape[2] - 1):\n",
    "                n = g[i - 1:i + 2, j - 1:j + 2, k - 1: k + 2].sum() - int(g[i, j, k])\n",
    "                if g[i, j, k]:\n",
    "                    g_new[i, j, k] = n == 2 or n == 3\n",
    "                else:\n",
    "                    g_new[i, j, k] = n == 3 \n",
    "    g = g_new\n",
    "print g.sum()      "
   ]
  },
  {
   "cell_type": "code",
   "execution_count": null,
   "metadata": {},
   "outputs": [],
   "source": [
    "# PART 2\n",
    "g_input = []\n",
    "for i, line in enumerate(open(\"input.txt\", \"r\")):\n",
    "    g_input.append([ch == \"#\" for ch in line.strip()])\n",
    "g_input = np.array(g_input)[:, :, np.newaxis, np.newaxis]\n",
    "\n",
    "g = np.full(np.array(g_input.shape) + 14, False, dtype=bool) \n",
    "g[7:-7, 7:-7, 7:-7, 7:-7] = g_input\n",
    "for it in range(6):\n",
    "    g_new = g.copy()\n",
    "    for i in range(1, g.shape[0] - 1):\n",
    "        for j in range(1, g.shape[1] - 1):\n",
    "            for k in range(1, g.shape[2] - 1):\n",
    "                for w in range(1, g.shape[3] - 1):\n",
    "                    n = g[i - 1:i + 2, j - 1:j + 2, k - 1: k + 2, w - 1: w + 2].sum() - int(g[i, j, k, w])\n",
    "                    if g[i, j, k, w]:\n",
    "                        g_new[i, j, k, w] = n == 2 or n == 3\n",
    "                    else:\n",
    "                        g_new[i, j, k, w] = n == 3 \n",
    "    g = g_new\n",
    "print g.sum()      "
   ]
  }
 ],
 "metadata": {
  "hide_input": false,
  "kernelspec": {
   "display_name": "Python 2",
   "language": "python",
   "name": "python2"
  },
  "language_info": {
   "codemirror_mode": {
    "name": "ipython",
    "version": 2
   },
   "file_extension": ".py",
   "mimetype": "text/x-python",
   "name": "python",
   "nbconvert_exporter": "python",
   "pygments_lexer": "ipython2",
   "version": "2.7.17"
  }
 },
 "nbformat": 4,
 "nbformat_minor": 2
}
