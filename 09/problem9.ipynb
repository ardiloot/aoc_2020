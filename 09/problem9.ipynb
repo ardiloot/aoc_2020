{
 "cells": [
  {
   "cell_type": "code",
   "execution_count": null,
   "metadata": {},
   "outputs": [],
   "source": [
    "import numpy as np"
   ]
  },
  {
   "cell_type": "code",
   "execution_count": null,
   "metadata": {},
   "outputs": [],
   "source": [
    "M = 25\n",
    "numbers = np.loadtxt(\"input.txt\", dtype=int)"
   ]
  },
  {
   "cell_type": "code",
   "execution_count": null,
   "metadata": {},
   "outputs": [],
   "source": [
    "# PART I\n",
    "for i in range(M, len(numbers)):\n",
    "    is_valid = False\n",
    "    for j in range(i - M, i):\n",
    "        for k in range(j + 1, i):\n",
    "            is_valid |= numbers[i] == numbers[j] + numbers[k] and numbers[j] != numbers[k]\n",
    "    if not is_valid:\n",
    "        res1 = numbers[i]\n",
    "        print i, res1\n",
    "        break"
   ]
  },
  {
   "cell_type": "code",
   "execution_count": null,
   "metadata": {},
   "outputs": [],
   "source": [
    "# PART 2\n",
    "cum_sum = np.cumsum([0] + numbers)\n",
    "for i1 in range(len(cum_sum)):\n",
    "    for i2 in range(i1 + 1, len(cum_sum)):\n",
    "        s = cum_sum[i2] - cum_sum[i1]\n",
    "        if s == res1:\n",
    "            print i1, i2, min(numbers[i1: i2]) + max(numbers[i1:i2])"
   ]
  }
 ],
 "metadata": {
  "hide_input": false,
  "kernelspec": {
   "display_name": "Python 2",
   "language": "python",
   "name": "python2"
  },
  "language_info": {
   "codemirror_mode": {
    "name": "ipython",
    "version": 2
   },
   "file_extension": ".py",
   "mimetype": "text/x-python",
   "name": "python",
   "nbconvert_exporter": "python",
   "pygments_lexer": "ipython2",
   "version": "2.7.17"
  }
 },
 "nbformat": 4,
 "nbformat_minor": 2
}
