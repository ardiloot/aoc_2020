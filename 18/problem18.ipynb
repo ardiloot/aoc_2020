{
 "cells": [
  {
   "cell_type": "code",
   "execution_count": null,
   "metadata": {},
   "outputs": [],
   "source": [
    "# PART I\n",
    "def solve(eq):\n",
    "    i, n, res, op = 0, 0, 0, \"+\"\n",
    "    for j, ch in enumerate(eq + \" \"):\n",
    "        if ch == \"(\":\n",
    "            n += 1\n",
    "        if ch == \")\":\n",
    "            n -= 1\n",
    "        if n == 0 and ch in [\"+\", \"*\", \" \"]:\n",
    "            v = solve(eq[i + 1: j - 1]) if eq[i] == \"(\" else int(eq[i:j])\n",
    "            if op == \"+\":\n",
    "                res += v\n",
    "            else:\n",
    "                res *= v\n",
    "            i, op = j + 1, ch\n",
    "    return res\n",
    "\n",
    "res = 0\n",
    "for line in open(\"input.txt\", \"r\"):\n",
    "    eq = line.strip().replace(\" \", \"\")\n",
    "    res += solve(eq)\n",
    "res"
   ]
  },
  {
   "cell_type": "code",
   "execution_count": null,
   "metadata": {},
   "outputs": [],
   "source": [
    "# PART 2\n",
    "def solve(eq):\n",
    "    n, i, res, op, args, ops = 0, 0, 0, None, [], []\n",
    "    for j, ch in enumerate(eq + \" \"):\n",
    "        if ch == \"(\":\n",
    "            n += 1\n",
    "        if ch == \")\":\n",
    "            n -= 1\n",
    "        if n == 0 and ch in [\"+\", \"*\", \" \"]:\n",
    "            v = solve(eq[i + 1: j - 1]) if eq[i] == \"(\" else int(eq[i:j])\n",
    "            args.append(v)\n",
    "            if op is not None:\n",
    "                ops.append(op)\n",
    "            i, op = j + 1, ch\n",
    "\n",
    "    for aop in [\"+\", \"*\"]:\n",
    "        i = 0\n",
    "        while i < len(ops):\n",
    "            if ops[i] == aop:\n",
    "                if aop == \"+\":\n",
    "                    args[i] += args[i + 1]\n",
    "                else:\n",
    "                    args[i] *= args[i + 1]\n",
    "                del args[i + 1]\n",
    "                del ops[i]\n",
    "            else:\n",
    "                i += 1\n",
    "    return args[0]\n",
    "\n",
    "res = 0\n",
    "for line in open(\"input.txt\", \"r\"):\n",
    "    eq = line.strip().replace(\" \", \"\")\n",
    "    res += solve(eq)\n",
    "res"
   ]
  }
 ],
 "metadata": {
  "hide_input": false,
  "kernelspec": {
   "display_name": "Python 2",
   "language": "python",
   "name": "python2"
  },
  "language_info": {
   "codemirror_mode": {
    "name": "ipython",
    "version": 2
   },
   "file_extension": ".py",
   "mimetype": "text/x-python",
   "name": "python",
   "nbconvert_exporter": "python",
   "pygments_lexer": "ipython2",
   "version": "2.7.17"
  }
 },
 "nbformat": 4,
 "nbformat_minor": 2
}
