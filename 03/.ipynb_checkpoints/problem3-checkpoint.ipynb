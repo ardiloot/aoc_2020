{
 "cells": [
  {
   "cell_type": "code",
   "execution_count": null,
   "metadata": {},
   "outputs": [],
   "source": [
    "with open(\"input.txt\", \"r\") as fin:\n",
    "    g = map(str.strip, fin.readlines())"
   ]
  },
  {
   "cell_type": "code",
   "execution_count": null,
   "metadata": {},
   "outputs": [],
   "source": [
    "# PART 1\n",
    "def num_trees(right, down):\n",
    "    i, j = 0, 0\n",
    "    res = 0\n",
    "    while i < len(g):\n",
    "        if g[i][j % len(g[0])] == '#':\n",
    "            res += 1\n",
    "        i += down\n",
    "        j += right\n",
    "    return res\n",
    "print num_trees(3, 1)"
   ]
  },
  {
   "cell_type": "code",
   "execution_count": null,
   "metadata": {},
   "outputs": [],
   "source": [
    "# PART 2\n",
    "res = 1\n",
    "for right, down in [(1, 1), (3, 1), (5, 1), (7, 1), (1, 2)]:\n",
    "    n = num_trees(right, down)\n",
    "    res *= n\n",
    "print res"
   ]
  }
 ],
 "metadata": {
  "hide_input": false,
  "kernelspec": {
   "display_name": "Python 2",
   "language": "python",
   "name": "python2"
  },
  "language_info": {
   "codemirror_mode": {
    "name": "ipython",
    "version": 2
   },
   "file_extension": ".py",
   "mimetype": "text/x-python",
   "name": "python",
   "nbconvert_exporter": "python",
   "pygments_lexer": "ipython2",
   "version": "2.7.17"
  }
 },
 "nbformat": 4,
 "nbformat_minor": 2
}
