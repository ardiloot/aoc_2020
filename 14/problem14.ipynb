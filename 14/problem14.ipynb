{
 "cells": [
  {
   "cell_type": "code",
   "execution_count": null,
   "metadata": {},
   "outputs": [],
   "source": [
    "import re\n",
    "import itertools\n",
    "import numpy as np\n",
    "from collections import defaultdict\n",
    "re_mask = re.compile(\"mask = ([X01]+)\")\n",
    "re_store = re.compile(\"mem\\[(\\d+)\\] = (\\d+)\")"
   ]
  },
  {
   "cell_type": "code",
   "execution_count": null,
   "metadata": {},
   "outputs": [],
   "source": [
    "# PART I\n",
    "mem = defaultdict(long)\n",
    "cur_mask = \"\".join(\"X\" for _ in range(36))\n",
    "for line in open(\"input.txt\", \"r\"):\n",
    "    if re_mask.match(line):\n",
    "        cur_mask = re_mask.match(line).group(1)\n",
    "    elif re_store.match(line):\n",
    "        m = re_store.match(line)\n",
    "        adr, value = int(m.group(1)), long(m.group(2))\n",
    "        for i, m in enumerate(cur_mask):\n",
    "            b = long(1) << (35 - i)\n",
    "            if m == \"1\":\n",
    "                value |= b\n",
    "            elif m == \"0\":\n",
    "                value &= ~b\n",
    "        mem[adr] = value\n",
    "    else:\n",
    "        raise NotImplementedError()\n",
    "print sum(mem.values())"
   ]
  },
  {
   "cell_type": "code",
   "execution_count": null,
   "metadata": {},
   "outputs": [],
   "source": [
    "# PART II\n",
    "mem = defaultdict(long)\n",
    "cur_mask = \"\".join(\"X\" for _ in range(36))\n",
    "for line in open(\"input.txt\", \"r\"):\n",
    "    if re_mask.match(line):\n",
    "        cur_mask = re_mask.match(line).group(1)\n",
    "    elif re_store.match(line):\n",
    "        m = re_store.match(line)\n",
    "        adr, value = int(m.group(1)), long(m.group(2))\n",
    "        \n",
    "        floating = []\n",
    "        for i, m in enumerate(cur_mask):\n",
    "            b = long(1) << (35 - i)\n",
    "            if m == \"X\":\n",
    "                floating.append(b)\n",
    "            elif m == \"1\":\n",
    "                adr |= b\n",
    "        \n",
    "        for perm in itertools.product([False, True], repeat=len(floating)):\n",
    "            new_adr = adr\n",
    "            for en, b in zip(perm, floating):\n",
    "                if en:\n",
    "                    new_adr |= b\n",
    "                else:\n",
    "                    new_adr &= ~b\n",
    "            mem[new_adr] = value\n",
    "\n",
    "    else:\n",
    "        raise NotImplementedError()\n",
    "print sum(mem.values())"
   ]
  }
 ],
 "metadata": {
  "hide_input": false,
  "kernelspec": {
   "display_name": "Python 2",
   "language": "python",
   "name": "python2"
  },
  "language_info": {
   "codemirror_mode": {
    "name": "ipython",
    "version": 2
   },
   "file_extension": ".py",
   "mimetype": "text/x-python",
   "name": "python",
   "nbconvert_exporter": "python",
   "pygments_lexer": "ipython2",
   "version": "2.7.17"
  }
 },
 "nbformat": 4,
 "nbformat_minor": 2
}
