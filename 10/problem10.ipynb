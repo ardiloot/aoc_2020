{
 "cells": [
  {
   "cell_type": "code",
   "execution_count": null,
   "metadata": {},
   "outputs": [],
   "source": [
    "import numpy as np"
   ]
  },
  {
   "cell_type": "code",
   "execution_count": null,
   "metadata": {},
   "outputs": [],
   "source": [
    "adapters = np.loadtxt(\"input.txt\", \"i\")\n",
    "adapters.sort()\n",
    "adapters = np.concatenate(([0], adapters, [adapters[-1] + 3]))"
   ]
  },
  {
   "cell_type": "code",
   "execution_count": null,
   "metadata": {},
   "outputs": [],
   "source": [
    "# PART 1\n",
    "bincounts = np.bincount(adapters[1:] - adapters[:-1])\n",
    "print bincounts[1] * bincounts[3]"
   ]
  },
  {
   "cell_type": "code",
   "execution_count": null,
   "metadata": {},
   "outputs": [],
   "source": [
    "# PART 2\n",
    "dp = np.full_like(adapters, -1)\n",
    "def count_possibilities(index):\n",
    "    if dp[index] >= 0:\n",
    "        return dp[index]\n",
    "    if index + 1 == len(adapters):\n",
    "        return 1\n",
    "    res = 0\n",
    "    for i in range(index + 1, len(adapters)):\n",
    "        if adapters[i] > adapters[index] + 3:\n",
    "            break\n",
    "        res += count_possibilities(i)\n",
    "    dp[index] = res\n",
    "    return res\n",
    "print count_possibilities(0)"
   ]
  },
  {
   "cell_type": "code",
   "execution_count": null,
   "metadata": {},
   "outputs": [],
   "source": []
  }
 ],
 "metadata": {
  "hide_input": false,
  "kernelspec": {
   "display_name": "Python 2",
   "language": "python",
   "name": "python2"
  },
  "language_info": {
   "codemirror_mode": {
    "name": "ipython",
    "version": 2
   },
   "file_extension": ".py",
   "mimetype": "text/x-python",
   "name": "python",
   "nbconvert_exporter": "python",
   "pygments_lexer": "ipython2",
   "version": "2.7.17"
  }
 },
 "nbformat": 4,
 "nbformat_minor": 2
}
