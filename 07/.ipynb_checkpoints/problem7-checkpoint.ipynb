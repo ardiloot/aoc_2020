{
 "cells": [
  {
   "cell_type": "code",
   "execution_count": null,
   "metadata": {},
   "outputs": [],
   "source": [
    "import re\n",
    "from collections import defaultdict"
   ]
  },
  {
   "cell_type": "code",
   "execution_count": null,
   "metadata": {},
   "outputs": [],
   "source": [
    "with open(\"input.txt\", \"r\") as fin:\n",
    "    rules = map(str.strip, fin.readlines())"
   ]
  },
  {
   "cell_type": "code",
   "execution_count": null,
   "metadata": {},
   "outputs": [],
   "source": [
    "re_bag_color = re.compile(\"(.+) bags contain\")\n",
    "re_inside = re.compile(\"(\\d+) ([\\w\\s]+) bags*\")\n",
    "bags = defaultdict(list)\n",
    "reverse_bags = defaultdict(list)\n",
    "for rule in rules:\n",
    "    bag_color = re_bag_color.match(rule).group(1)\n",
    "    for num, other_color in re_inside.findall(rule):\n",
    "        reverse_bags[other_color].append(bag_color)\n",
    "        bags[bag_color].append((other_color, int(num)))"
   ]
  },
  {
   "cell_type": "code",
   "execution_count": null,
   "metadata": {},
   "outputs": [],
   "source": [
    "# PART 1\n",
    "visited = set()\n",
    "queue = [\"shiny gold\"]\n",
    "while len(queue) > 0:\n",
    "    color = queue.pop(0)\n",
    "    if color in visited:\n",
    "        continue\n",
    "    visited.add(color)\n",
    "    for to in reverse_bags[color]:\n",
    "        queue.append(to)\n",
    "print len(visited) - 1"
   ]
  },
  {
   "cell_type": "code",
   "execution_count": null,
   "metadata": {},
   "outputs": [],
   "source": [
    "# PART 2\n",
    "dp = {}\n",
    "def dfs(color):\n",
    "    if color in dp:\n",
    "        return dp[color]\n",
    "    res = 1\n",
    "    for other_color, num in bags[color]:\n",
    "        res += num * dfs(other_color)\n",
    "    dp[color] = res\n",
    "    return res\n",
    "    \n",
    "print dfs(\"shiny gold\") - 1"
   ]
  }
 ],
 "metadata": {
  "hide_input": false,
  "kernelspec": {
   "display_name": "Python 2",
   "language": "python",
   "name": "python2"
  },
  "language_info": {
   "codemirror_mode": {
    "name": "ipython",
    "version": 2
   },
   "file_extension": ".py",
   "mimetype": "text/x-python",
   "name": "python",
   "nbconvert_exporter": "python",
   "pygments_lexer": "ipython2",
   "version": "2.7.17"
  }
 },
 "nbformat": 4,
 "nbformat_minor": 2
}
