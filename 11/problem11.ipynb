{
 "cells": [
  {
   "cell_type": "code",
   "execution_count": null,
   "metadata": {},
   "outputs": [],
   "source": [
    "import numpy as np"
   ]
  },
  {
   "cell_type": "code",
   "execution_count": null,
   "metadata": {},
   "outputs": [],
   "source": [
    "# PART 1\n",
    "g = np.loadtxt(\"input.txt\", \"c\")\n",
    "while True:\n",
    "    to_swap = []\n",
    "    for i in range(g.shape[0]):\n",
    "        for j in range(g.shape[1]):\n",
    "            cur = g[i, j]\n",
    "            if cur == \".\":\n",
    "                continue        \n",
    "            s = g[max(0, i - 1):min(i + 2, g.shape[0]), max(0, j - 1):min(j + 2, g.shape[1])]\n",
    "            num_occupied = (s == \"#\").sum()\n",
    "            if (cur == \"L\" and num_occupied == 0) or (cur == \"#\" and num_occupied - 1 >= 4):\n",
    "                to_swap.append((i, j))\n",
    "    \n",
    "    if len(to_swap) <= 0:\n",
    "        break\n",
    "    \n",
    "    for i, j in to_swap:\n",
    "        g[i, j] = \"#\" if g[i, j] == \"L\" else \"L\"  \n",
    "print (g == \"#\").sum()"
   ]
  },
  {
   "cell_type": "code",
   "execution_count": null,
   "metadata": {},
   "outputs": [],
   "source": [
    "# PART 2\n",
    "g = np.loadtxt(\"input.txt\", \"c\")\n",
    "while True:\n",
    "    to_swap = []\n",
    "    for i in range(g.shape[0]):\n",
    "        for j in range(g.shape[1]):\n",
    "            cur = g[i, j]\n",
    "            if cur == \".\":\n",
    "                continue        \n",
    "            \n",
    "            num_occupied = 0\n",
    "            for d1 in [-1, 0, 1]:\n",
    "                for d2 in [-1, 0, 1]:\n",
    "                    if d1 ==  0 and d2 == 0:\n",
    "                        continue\n",
    "                    dist = 1\n",
    "                    while True:\n",
    "                        n1, n2 = i + d1 * dist, j + d2 * dist\n",
    "                        if n1 < 0 or n2 < 0:\n",
    "                            break\n",
    "                        if n1 >= g.shape[0] or n2 >= g.shape[1]:\n",
    "                            break\n",
    "                        if g[n1, n2] == \".\":\n",
    "                            dist += 1\n",
    "                            continue\n",
    "                        if g[n1, n2] == \"#\":\n",
    "                            num_occupied += 1\n",
    "                        break\n",
    "                        \n",
    "            if (cur == \"L\" and num_occupied == 0) or (cur == \"#\" and num_occupied >= 5):\n",
    "                to_swap.append((i, j))\n",
    "    \n",
    "    if len(to_swap) <= 0:\n",
    "        break\n",
    "    \n",
    "    for i, j in to_swap:\n",
    "        g[i, j] = \"#\" if g[i, j] == \"L\" else \"L\"  \n",
    "print (g == \"#\").sum()"
   ]
  },
  {
   "cell_type": "code",
   "execution_count": null,
   "metadata": {},
   "outputs": [],
   "source": []
  }
 ],
 "metadata": {
  "hide_input": false,
  "kernelspec": {
   "display_name": "Python 2",
   "language": "python",
   "name": "python2"
  },
  "language_info": {
   "codemirror_mode": {
    "name": "ipython",
    "version": 2
   },
   "file_extension": ".py",
   "mimetype": "text/x-python",
   "name": "python",
   "nbconvert_exporter": "python",
   "pygments_lexer": "ipython2",
   "version": "2.7.17"
  }
 },
 "nbformat": 4,
 "nbformat_minor": 2
}
