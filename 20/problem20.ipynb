{
 "metadata": {
  "language_info": {
   "codemirror_mode": {
    "name": "ipython",
    "version": 3
   },
   "file_extension": ".py",
   "mimetype": "text/x-python",
   "name": "python",
   "nbconvert_exporter": "python",
   "pygments_lexer": "ipython3",
   "version": "2.7.18-final"
  },
  "orig_nbformat": 2,
  "kernelspec": {
   "name": "python3",
   "display_name": "Python 2.7.18 64-bit ('python27': conda)",
   "metadata": {
    "interpreter": {
     "hash": "25195962bd000f2e9e4b44786b3a11452319fdf65a1a36d3a0fe239d86fdd9dd"
    }
   }
  }
 },
 "nbformat": 4,
 "nbformat_minor": 2,
 "cells": [
  {
   "cell_type": "code",
   "execution_count": 1,
   "metadata": {},
   "outputs": [],
   "source": [
    "import math\n",
    "import numpy as np"
   ]
  },
  {
   "cell_type": "code",
   "execution_count": 2,
   "metadata": {
    "tags": []
   },
   "outputs": [],
   "source": [
    "tiles = []\n",
    "cur_tile_nr = None\n",
    "cur_tile = []\n",
    "for line in open(\"input.txt\", \"r\"):\n",
    "    line = line.strip()\n",
    "    if \"Tile\" in line:\n",
    "        cur_tile_nr = int(line[5:-1])\n",
    "    elif line == \"\":\n",
    "        tiles.append((cur_tile_nr, np.array(cur_tile)))\n",
    "        cur_tile = []\n",
    "    else:\n",
    "        cur_tile.append(list(line))\n",
    "N = int(math.sqrt(len(tiles)))\n",
    "\n",
    "\n",
    "tile_sides = {}\n",
    "for tile_nr, tile in tiles:\n",
    "    sides = []\n",
    "    for hflip in [True, False]:\n",
    "        for vflip in [True, False]:\n",
    "            ntile = tile.copy()\n",
    "            if hflip:\n",
    "                ntile = np.flip(ntile, axis = 0)\n",
    "            if vflip:\n",
    "                ntile = np.flip(ntile, axis = 1)\n",
    "            for _ in range(4):\n",
    "                top, bottom, left, right = \"\".join(ntile[0, :]), \"\".join(ntile[-1, :]), \"\".join(ntile[:, 0]), \"\".join(ntile[:, -1])\n",
    "                sides.append((top, bottom, left, right, ntile.copy()))\n",
    "                ntile = np.rot90(ntile)\n",
    "    tile_sides[tile_nr] = sides\n"
   ]
  },
  {
   "cell_type": "code",
   "execution_count": 3,
   "metadata": {
    "tags": []
   },
   "outputs": [
    {
     "output_type": "stream",
     "name": "stdout",
     "text": [
      "111936085519519\n"
     ]
    }
   ],
   "source": [
    "# PART 1\n",
    "\n",
    "def match(row, col, sides):\n",
    "    # UP\n",
    "    if row > 0:\n",
    "        up_tile_nr, up_variant_nr = tile_map[row - 1][col]\n",
    "        if tile_sides[up_tile_nr][up_variant_nr][1] != sides[0]:\n",
    "            return False\n",
    "    # Left\n",
    "    if col > 0:\n",
    "        up_tile_nr, up_variant_nr = tile_map[row][col - 1]\n",
    "        if tile_sides[up_tile_nr][up_variant_nr][3] != sides[2]:\n",
    "            return False\n",
    "    #print \"match\", row, col, sides\n",
    "    return True\n",
    "\n",
    "def generate(row, col):\n",
    "    #print row, col\n",
    "    if row >= N:\n",
    "        return True\n",
    "\n",
    "    for tile_nr, all_sides in tile_sides.iteritems():\n",
    "        if tile_nr in used:\n",
    "            continue\n",
    "        for i, sides in enumerate(all_sides):\n",
    "            if match(row, col, sides):\n",
    "                #if row == 0 and col == 0:\n",
    "                #    print tile_nr\n",
    "                used.add(tile_nr)\n",
    "                tile_map[row][col] = (tile_nr, i)\n",
    "\n",
    "                if col + 1 < N:\n",
    "                    nrow, ncol = row, col + 1   \n",
    "                else:\n",
    "                    nrow, ncol = row + 1, 0\n",
    "                if generate(nrow, ncol):\n",
    "                    return True\n",
    "\n",
    "                used.remove(tile_nr)\n",
    "                tile_map[row][col] = (-1, -1)\n",
    "                #break\n",
    "    #print \"false\", row, col\n",
    "    return False\n",
    "\n",
    "tile_map = []\n",
    "for i in range(N):\n",
    "    tile_map.append([(-1, -1) for _ in range(N)])\n",
    "used = set()\n",
    "generate(0, 0)\n",
    "\n",
    "print tile_map[0][0][0] * tile_map[0][-1][0] * tile_map[-1][0][0] * tile_map[-1][-1][0]"
   ]
  },
  {
   "cell_type": "code",
   "execution_count": 4,
   "metadata": {},
   "outputs": [
    {
     "output_type": "stream",
     "name": "stdout",
     "text": [
      "35 1792\n35 1792\n"
     ]
    }
   ],
   "source": [
    "# PART 2\n",
    "def count_monsters(img):\n",
    "    num_monsters = 0\n",
    "    for dx in range(M - monster.shape[0]):\n",
    "        for dy in range(M - monster.shape[1]):\n",
    "            if (img[mx + dx, my + dy] == \"#\").sum() == 15:\n",
    "                img[mx + dx, my + dy] = \"O\"\n",
    "                num_monsters += 1\n",
    "    return num_monsters, (img == \"#\").sum()\n",
    "\n",
    "img = []\n",
    "for i in range(N):\n",
    "    row = []\n",
    "    for j in range(N):\n",
    "        tile_nr, variant_nr = tile_map[i][j]\n",
    "        row.append(tile_sides[tile_nr][variant_nr][-1][1:-1, 1:-1])\n",
    "    img.append(np.hstack(row))\n",
    "img = np.vstack(img)\n",
    "M = img.shape[0]\n",
    "\n",
    "monster = np.array([list(\"                  # \"), list(\"#    ##    ##    ###\"), list(\" #  #  #  #  #  #   \")])\n",
    "mx, my = np.where(monster == \"#\")\n",
    "\n",
    "for hflip in [True, False]:\n",
    "    for vflip in [True, False]:\n",
    "        a = img.copy()\n",
    "        if hflip:\n",
    "            a = np.flip(a, axis = 0)\n",
    "        if vflip:\n",
    "            a = np.flip(a, axis = 1)\n",
    "        for _ in range(4):\n",
    "            num_monsters, num_unused = count_monsters(a.copy())\n",
    "            if num_monsters > 0:\n",
    "                print num_monsters, num_unused\n",
    "            a = np.rot90(a)"
   ]
  },
  {
   "cell_type": "code",
   "execution_count": null,
   "metadata": {},
   "outputs": [],
   "source": []
  }
 ]
}