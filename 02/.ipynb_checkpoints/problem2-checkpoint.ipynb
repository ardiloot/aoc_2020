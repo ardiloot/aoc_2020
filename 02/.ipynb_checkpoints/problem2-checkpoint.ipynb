{
 "cells": [
  {
   "cell_type": "code",
   "execution_count": null,
   "metadata": {},
   "outputs": [],
   "source": [
    "import re"
   ]
  },
  {
   "cell_type": "code",
   "execution_count": null,
   "metadata": {},
   "outputs": [],
   "source": [
    "with open(\"input.txt\") as fin:\n",
    "    lines = fin.readlines()"
   ]
  },
  {
   "cell_type": "code",
   "execution_count": null,
   "metadata": {},
   "outputs": [],
   "source": [
    "regex = re.compile(\"^(\\d.*)-(\\d.*) (.): (.*)\")\n",
    "num_valid, num_valid_2 = 0, 0\n",
    "for line in lines:\n",
    "    m = regex.match(line)\n",
    "    n0, n1 = int(m.group(1)), int(m.group(2))\n",
    "    letter, password = m.group(3), m.group(4)\n",
    "    count = password.count(letter)\n",
    "\n",
    "    if count >= n0 and count <= n1:\n",
    "        num_valid += 1    \n",
    "        \n",
    "    if int(password[n0 - 1] == letter) + int(password[n1 - 1] == letter) == 1:\n",
    "        num_valid_2 += 1\n",
    "\n",
    "print num_valid, num_valid_2"
   ]
  }
 ],
 "metadata": {
  "hide_input": false,
  "kernelspec": {
   "display_name": "Python 2",
   "language": "python",
   "name": "python2"
  },
  "language_info": {
   "codemirror_mode": {
    "name": "ipython",
    "version": 2
   },
   "file_extension": ".py",
   "mimetype": "text/x-python",
   "name": "python",
   "nbconvert_exporter": "python",
   "pygments_lexer": "ipython2",
   "version": "2.7.17"
  }
 },
 "nbformat": 4,
 "nbformat_minor": 2
}
