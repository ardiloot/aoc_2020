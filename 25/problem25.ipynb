{
 "metadata": {
  "language_info": {
   "codemirror_mode": {
    "name": "ipython",
    "version": 3
   },
   "file_extension": ".py",
   "mimetype": "text/x-python",
   "name": "python",
   "nbconvert_exporter": "python",
   "pygments_lexer": "ipython3",
   "version": "2.7.18-final"
  },
  "orig_nbformat": 2,
  "kernelspec": {
   "name": "python3",
   "display_name": "Python 2.7.18 64-bit ('python27': conda)",
   "metadata": {
    "interpreter": {
     "hash": "25195962bd000f2e9e4b44786b3a11452319fdf65a1a36d3a0fe239d86fdd9dd"
    }
   }
  }
 },
 "nbformat": 4,
 "nbformat_minor": 2,
 "cells": [
  {
   "cell_type": "code",
   "execution_count": null,
   "metadata": {},
   "outputs": [],
   "source": [
    "with open(\"input.txt\", \"r\") as f:\n",
    "    key_1 = int(f.readline().strip())\n",
    "    key_2 = int(f.readline().strip())"
   ]
  },
  {
   "cell_type": "code",
   "execution_count": null,
   "metadata": {
    "tags": []
   },
   "outputs": [],
   "source": [
    "def get_loop_nr(public_key):\n",
    "    nr = 1\n",
    "    res = 0\n",
    "    while nr != public_key:\n",
    "        nr = (nr * 7) % 20201227\n",
    "        res += 1\n",
    "    return res\n",
    "\n",
    "def apply_loop(subject_nr, loop_nr):\n",
    "    nr = 1\n",
    "    for _ in range(loop_nr):\n",
    "        nr = (nr * subject_nr) % 20201227\n",
    "    return nr\n",
    "\n",
    "loop_nr = get_loop_nr(key_1)\n",
    "print(apply_loop(key_2, loop_nr))"
   ]
  }
 ]
}