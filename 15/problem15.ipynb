{
 "cells": [
  {
   "cell_type": "code",
   "execution_count": null,
   "metadata": {},
   "outputs": [],
   "source": [
    "numbers = map(int, open(\"input.txt\", \"r\").readline().strip().split(\",\"))"
   ]
  },
  {
   "cell_type": "code",
   "execution_count": null,
   "metadata": {},
   "outputs": [],
   "source": [
    "hist = dict((n, i) for i, n in enumerate(numbers[:-1]))\n",
    "last_spoken = numbers[-1]\n",
    "for j in range(len(numbers), 30000000):\n",
    "    if last_spoken not in hist:\n",
    "        new_number = 0\n",
    "    else:\n",
    "        new_number = j - hist[last_spoken] - 1\n",
    "    hist[last_spoken] = j - 1\n",
    "    last_spoken = new_number\n",
    "print last_spoken "
   ]
  }
 ],
 "metadata": {
  "hide_input": false,
  "kernelspec": {
   "display_name": "Python 2",
   "language": "python",
   "name": "python2"
  },
  "language_info": {
   "codemirror_mode": {
    "name": "ipython",
    "version": 2
   },
   "file_extension": ".py",
   "mimetype": "text/x-python",
   "name": "python",
   "nbconvert_exporter": "python",
   "pygments_lexer": "ipython2",
   "version": "2.7.17"
  }
 },
 "nbformat": 4,
 "nbformat_minor": 2
}
