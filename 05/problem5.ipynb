{
 "cells": [
  {
   "cell_type": "code",
   "execution_count": null,
   "metadata": {},
   "outputs": [],
   "source": [
    "# PART 1\n",
    "def get_pos(directions, v0, v1):\n",
    "    for c in directions:\n",
    "        v0, v1 = (v0, (v0 + v1) / 2) if c == \"F\" or c == \"L\" else ((v0 + v1) / 2 + 1, v1)\n",
    "    return v0\n",
    "\n",
    "used_seats = set()\n",
    "for line in open(\"input.txt\", \"r\"):\n",
    "    row, col = get_pos(line[:7], 0, 127), get_pos(line[7:10], 0, 7)\n",
    "    seatId = 8 * row + col\n",
    "    used_seats.add(seatId)\n",
    "print max(used_seats)"
   ]
  },
  {
   "cell_type": "code",
   "execution_count": null,
   "metadata": {},
   "outputs": [],
   "source": [
    "# PART 2\n",
    "print [seatId for seatId in range(min(used_seats) + 1, max(used_seats)) if seatId not in used_seats]"
   ]
  }
 ],
 "metadata": {
  "hide_input": false,
  "kernelspec": {
   "display_name": "Python 2",
   "language": "python",
   "name": "python2"
  },
  "language_info": {
   "codemirror_mode": {
    "name": "ipython",
    "version": 2
   },
   "file_extension": ".py",
   "mimetype": "text/x-python",
   "name": "python",
   "nbconvert_exporter": "python",
   "pygments_lexer": "ipython2",
   "version": "2.7.17"
  }
 },
 "nbformat": 4,
 "nbformat_minor": 2
}
