{
 "cells": [
  {
   "cell_type": "code",
   "execution_count": null,
   "metadata": {},
   "outputs": [],
   "source": [
    "import numpy as np"
   ]
  },
  {
   "cell_type": "code",
   "execution_count": null,
   "metadata": {},
   "outputs": [],
   "source": [
    "input_cups = map(int, list(open(\"input.txt\", \"r\").readline().strip()))\n",
    "N = max(input_cups)"
   ]
  },
  {
   "cell_type": "code",
   "execution_count": null,
   "metadata": {},
   "outputs": [],
   "source": [
    "def get_dest_cup(cur_cup, picked):\n",
    "    for i in range(cur_cup - 1, max(cur_cup - 5, 0), -1):\n",
    "        if i not in picked:\n",
    "            return i\n",
    "    for i in range(N, N - 5, -1):\n",
    "        if i not in picked:\n",
    "            return i\n",
    "    raise RuntimeError()\n",
    "\n",
    "cups = np.array(input_cups[:])\n",
    "for it in range(100):\n",
    "    picked = cups[1:4]\n",
    "    cur_cup = cups[0]\n",
    "    dest_cup = get_dest_cup(cur_cup, picked)\n",
    "    dest_cup_ix = np.nonzero(cups == dest_cup)[0][0]\n",
    "    new_cups = np.concatenate((cups[4:dest_cup_ix + 1], picked, cups[dest_cup_ix + 1:], [cups[0]]))\n",
    "    cups = new_cups\n",
    "    \n",
    "ix = np.nonzero(cups == 1)[0][0]\n",
    "print \"\".join(map(str, np.concatenate((cups[ix + 1:], cups[:ix]))))"
   ]
  }
 ],
 "metadata": {
  "hide_input": false,
  "kernelspec": {
   "display_name": "Python 2",
   "language": "python",
   "name": "python2"
  },
  "language_info": {
   "codemirror_mode": {
    "name": "ipython",
    "version": 2
   },
   "file_extension": ".py",
   "mimetype": "text/x-python",
   "name": "python",
   "nbconvert_exporter": "python",
   "pygments_lexer": "ipython2",
   "version": "2.7.17"
  }
 },
 "nbformat": 4,
 "nbformat_minor": 2
}
