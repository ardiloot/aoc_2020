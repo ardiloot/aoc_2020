{
 "cells": [
  {
   "cell_type": "code",
   "execution_count": null,
   "metadata": {},
   "outputs": [],
   "source": [
    "import re\n",
    "re_rule = re.compile(\"(.*): (\\d+)-(\\d+) or (\\d+)-(\\d+)\")"
   ]
  },
  {
   "cell_type": "code",
   "execution_count": null,
   "metadata": {},
   "outputs": [],
   "source": [
    "rules = []\n",
    "tickets = []\n",
    "with open(\"input.txt\", \"r\")as fin:\n",
    "    while True:\n",
    "        line = fin.readline().strip()\n",
    "        if line == \"\":\n",
    "            break\n",
    "        m = re_rule.match(line)\n",
    "        rules.append((m.group(1), (int(m.group(2)), int(m.group(3))), (int(m.group(4)), int(m.group(5)))))\n",
    "    fin.readline()\n",
    "    my_ticket = map(int, fin.readline().strip().split(\",\"))\n",
    "    fin.readline()\n",
    "    fin.readline()\n",
    "    \n",
    "    while True:\n",
    "        line = fin.readline().strip()\n",
    "        if line == \"\":\n",
    "            break\n",
    "        tickets.append(map(int, line.split(\",\")))\n",
    "print rules\n",
    "print tickets"
   ]
  },
  {
   "cell_type": "code",
   "execution_count": null,
   "metadata": {},
   "outputs": [],
   "source": [
    "def matches_rule(nr, rule):\n",
    "    return (nr >= rule[1][0] and nr <= rule[1][1]) or (nr >= rule[2][0] and nr <= rule[2][1])\n",
    "\n",
    "def matches_any(nr):\n",
    "    for rule in rules:\n",
    "        if matches_rule(nr, rule):\n",
    "            return True\n",
    "    return False\n",
    "        \n",
    "res = 0\n",
    "valid_tickets = []\n",
    "for ticket in tickets:\n",
    "    is_valid = True\n",
    "    for nr in ticket:\n",
    "        if not matches_any(nr):\n",
    "            res += nr\n",
    "            is_valid = False\n",
    "    if is_valid:\n",
    "        valid_tickets.append(ticket)\n",
    "print res"
   ]
  },
  {
   "cell_type": "code",
   "execution_count": null,
   "metadata": {},
   "outputs": [],
   "source": [
    "def is_matching(i, rule):\n",
    "    for ticket in valid_tickets:\n",
    "        if not matches_rule(ticket[i], rule):\n",
    "            return False\n",
    "    return True\n",
    "\n",
    "dp = dict()\n",
    "def find_match(i, used):\n",
    "    if (i, used) in dp:\n",
    "        return dp[i, used]\n",
    "    if i >= len(rules):\n",
    "        return True, []\n",
    "    \n",
    "    for j, rule in enumerate(rules):\n",
    "        if used & (1 << j):\n",
    "            continue\n",
    "        if is_matching(i, rule):\n",
    "            suc, res = find_match(i + 1, used | (1 << j))\n",
    "            if suc:\n",
    "                return True, [rule[0]] + res\n",
    "    dp[i, used] = False, []\n",
    "    return False, []\n",
    "\n",
    "field_names = find_match(0, 0)[1]\n",
    "print(field_names)\n",
    "\n",
    "res = 1\n",
    "for fn, nr in zip(field_names, my_ticket):\n",
    "    if fn.startswith(\"departure\"):\n",
    "        res *= nr\n",
    "print res"
   ]
  },
  {
   "cell_type": "code",
   "execution_count": null,
   "metadata": {},
   "outputs": [],
   "source": []
  },
  {
   "cell_type": "code",
   "execution_count": null,
   "metadata": {},
   "outputs": [],
   "source": []
  }
 ],
 "metadata": {
  "hide_input": false,
  "kernelspec": {
   "display_name": "Python 2",
   "language": "python",
   "name": "python2"
  },
  "language_info": {
   "codemirror_mode": {
    "name": "ipython",
    "version": 2
   },
   "file_extension": ".py",
   "mimetype": "text/x-python",
   "name": "python",
   "nbconvert_exporter": "python",
   "pygments_lexer": "ipython2",
   "version": "2.7.17"
  }
 },
 "nbformat": 4,
 "nbformat_minor": 2
}
