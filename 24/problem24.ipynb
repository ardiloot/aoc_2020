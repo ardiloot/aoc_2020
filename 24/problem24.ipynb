{
 "metadata": {
  "language_info": {
   "codemirror_mode": {
    "name": "ipython",
    "version": 3
   },
   "file_extension": ".py",
   "mimetype": "text/x-python",
   "name": "python",
   "nbconvert_exporter": "python",
   "pygments_lexer": "ipython3",
   "version": "2.7.18-final"
  },
  "orig_nbformat": 2,
  "kernelspec": {
   "name": "python3",
   "display_name": "Python 2.7.18 64-bit",
   "metadata": {
    "interpreter": {
     "hash": "25195962bd000f2e9e4b44786b3a11452319fdf65a1a36d3a0fe239d86fdd9dd"
    }
   }
  }
 },
 "nbformat": 4,
 "nbformat_minor": 2,
 "cells": [
  {
   "cell_type": "code",
   "execution_count": null,
   "metadata": {},
   "outputs": [],
   "source": [
    "import numpy as np"
   ]
  },
  {
   "cell_type": "code",
   "execution_count": null,
   "metadata": {},
   "outputs": [],
   "source": [
    "moves = {\n",
    "    \"e\": np.array([1, 0]),\n",
    "    \"w\":  np.array([-1, 0]),\n",
    "    \"nw\": np.array([-1, 1]),\n",
    "    \"ne\": np.array([0, 1]),\n",
    "    \"sw\": np.array([0, -1]),\n",
    "    \"se\": np.array([1, -1])\n",
    "}\n",
    "\n",
    "g = np.full((200, 200), False)\n",
    "for line in open(\"input.txt\", \"r\"):\n",
    "    line = line.strip()\n",
    "    #print(line)\n",
    "    i = 0\n",
    "    pos = np.array([100, 100])\n",
    "    while i < len(line):\n",
    "        if line[i] in [\"e\", \"w\"]:\n",
    "            delta = moves[line[i]]\n",
    "            i += 1\n",
    "        elif line[i] in [\"n\", \"s\"]:\n",
    "            delta = moves[line[i:i + 2]]\n",
    "            i += 2\n",
    "        else:\n",
    "            raise NotImplementedError()\n",
    "        pos += delta\n",
    "    g[pos[0], pos[1]] ^= True\n",
    "print(g.sum())"
   ]
  },
  {
   "cell_type": "code",
   "execution_count": null,
   "metadata": {},
   "outputs": [],
   "source": [
    "def num_black(p):\n",
    "    res = 0\n",
    "    for delta in moves.itervalues():\n",
    "        n = p + delta\n",
    "        if np.min(n) < 0 or np.max(n) >= g.shape[0]:\n",
    "            continue\n",
    "        res += g[n[0], n[1]]\n",
    "    return res\n",
    "\n",
    "for day in range(100):\n",
    "    to_swap = []\n",
    "    for p, is_black in np.ndenumerate(g):\n",
    "        blacks = num_black(np.array(p))\n",
    "        if (is_black and (blacks == 0 or blacks > 2)) or (not is_black and blacks == 2):\n",
    "            to_swap.append(p)\n",
    "    g[tuple(zip(*to_swap))] ^= True\n",
    "    print(day, g.sum())\n"
   ]
  },
  {
   "cell_type": "code",
   "execution_count": null,
   "metadata": {},
   "outputs": [],
   "source": []
  }
 ]
}