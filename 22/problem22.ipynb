{
 "cells": [
  {
   "cell_type": "code",
   "execution_count": null,
   "metadata": {},
   "outputs": [],
   "source": [
    "import sys\n",
    "from collections import defaultdict\n",
    "from copy import deepcopy\n",
    "sys.setrecursionlimit(100000)"
   ]
  },
  {
   "cell_type": "code",
   "execution_count": null,
   "metadata": {},
   "outputs": [],
   "source": [
    "cur_player = None\n",
    "input_cards = defaultdict(list)\n",
    "for line in open(\"input.txt\", \"r\"):\n",
    "    line = line.strip()\n",
    "    if \"Player\" in line:\n",
    "        cur_player = line[:-1]\n",
    "    elif line == \"\":\n",
    "        continue\n",
    "    else:\n",
    "        input_cards[cur_player].append(int(line))"
   ]
  },
  {
   "cell_type": "code",
   "execution_count": null,
   "metadata": {},
   "outputs": [],
   "source": [
    "# PART 1\n",
    "\n",
    "def score(deck):\n",
    "    res = 0\n",
    "    for i, v in enumerate(deck[::-1]):\n",
    "        res += (i + 1) * v  \n",
    "    return res\n",
    "\n",
    "cards = deepcopy(input_cards)\n",
    "while min(len(cards[\"Player 1\"]), len(cards[\"Player 2\"])) > 0:\n",
    "    winner = \"Player 1\" if cards[\"Player 1\"][0] > cards[\"Player 2\"][0] else \"Player 2\"\n",
    "    loser = {\"Player 1\": \"Player 2\", \"Player 2\": \"Player 1\"}[winner]\n",
    "    cards[winner].extend([cards[winner][0], cards[loser][0]])\n",
    "    del cards[winner][0]    \n",
    "    del cards[loser][0]\n",
    "\n",
    "print score(cards[\"Player 1\"])"
   ]
  },
  {
   "cell_type": "code",
   "execution_count": null,
   "metadata": {},
   "outputs": [],
   "source": [
    "# PART 2\n",
    "dp = {}\n",
    "game_nr = 1\n",
    "def play_game(player1, player2):\n",
    "    global game_nr\n",
    "    if (game_nr, tuple(player1), tuple(player2)) in dp:\n",
    "        return 1\n",
    "    dp[game_nr, tuple(player1), tuple(player2)] = True\n",
    "    if min(len(player1), len(player2)) == 0:\n",
    "        if game_nr == 1:\n",
    "            print score(player1), score(player2)\n",
    "        return 2 if len(player2) > 0 else 1\n",
    "        \n",
    "    player1wins = player1[0] > player2[0]\n",
    "    if len(player1) > player1[0] and len(player2) > player2[0]:\n",
    "        game_nr += 1\n",
    "        player1wins = play_game(player1[1:player1[0]+1], player2[1:player2[0]+1]) == 1\n",
    "        game_nr -= 1    \n",
    "\n",
    "    if player1wins:\n",
    "        nplayer1 = player1[1:] + [player1[0], player2[0]]\n",
    "        nplayer2 = player2[1:]\n",
    "    else:\n",
    "        nplayer2 = player2[1:] + [player2[0], player1[0]]\n",
    "        nplayer1 = player1[1:]\n",
    "    return play_game(nplayer1, nplayer2)\n",
    "\n",
    "play_game(input_cards[\"Player 1\"], input_cards[\"Player 2\"])"
   ]
  },
  {
   "cell_type": "code",
   "execution_count": null,
   "metadata": {},
   "outputs": [],
   "source": []
  }
 ],
 "metadata": {
  "hide_input": false,
  "kernelspec": {
   "display_name": "Python 2",
   "language": "python",
   "name": "python2"
  },
  "language_info": {
   "codemirror_mode": {
    "name": "ipython",
    "version": 2
   },
   "file_extension": ".py",
   "mimetype": "text/x-python",
   "name": "python",
   "nbconvert_exporter": "python",
   "pygments_lexer": "ipython2",
   "version": "2.7.17"
  }
 },
 "nbformat": 4,
 "nbformat_minor": 2
}
