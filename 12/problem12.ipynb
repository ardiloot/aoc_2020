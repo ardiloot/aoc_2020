{
 "metadata": {
  "language_info": {
   "codemirror_mode": {
    "name": "ipython",
    "version": 3
   },
   "file_extension": ".py",
   "mimetype": "text/x-python",
   "name": "python",
   "nbconvert_exporter": "python",
   "pygments_lexer": "ipython3",
   "version": "2.7.18-final"
  },
  "orig_nbformat": 2,
  "kernelspec": {
   "name": "python3",
   "display_name": "Python 2.7.18 64-bit ('python27': conda)",
   "metadata": {
    "interpreter": {
     "hash": "25195962bd000f2e9e4b44786b3a11452319fdf65a1a36d3a0fe239d86fdd9dd"
    }
   }
  }
 },
 "nbformat": 4,
 "nbformat_minor": 2,
 "cells": [
  {
   "source": [
    "import numpy as np"
   ],
   "cell_type": "code",
   "metadata": {},
   "execution_count": null,
   "outputs": []
  },
  {
   "cell_type": "code",
   "execution_count": null,
   "metadata": {},
   "outputs": [],
   "source": [
    "instructions = [(line[0], int(line.strip()[1:])) for line in open(\"input.txt\", \"r\")]\n",
    "R = np.array([[0, -1], [1, 0]]) # rotates 90 deg\n",
    "N, E = np.array([1, 0]), np.array([0, 1])\n",
    "directions = {\"N\": N, \"E\": E, \"S\": -N, \"W\": -E}"
   ]
  },
  {
   "cell_type": "code",
   "execution_count": null,
   "metadata": {},
   "outputs": [],
   "source": [
    "# PART I\n",
    "cur_dir = E\n",
    "cur_pos = np.array([0, 0])\n",
    "for cmd, arg in instructions:\n",
    "    if cmd in directions:\n",
    "        cur_pos += directions[cmd] * arg\n",
    "    elif cmd[0] == \"F\":\n",
    "        cur_pos += cur_dir * arg\n",
    "    elif cmd in [\"R\", \"L\"]:\n",
    "        tf = np.linalg.matrix_power(R, int(arg / 90))\n",
    "        if cmd == \"L\":\n",
    "            tf = np.linalg.inv(tf).astype(int)\n",
    "        cur_dir = np.dot(tf, cur_dir)\n",
    "print np.abs(cur_pos).sum()"
   ]
  },
  {
   "cell_type": "code",
   "execution_count": null,
   "metadata": {},
   "outputs": [],
   "source": [
    "# PART 2\n",
    "cur_pos = np.array([0, 0])\n",
    "waypoint = np.array([1, 10])\n",
    "for cmd, arg in instructions:\n",
    "    if cmd in directions:\n",
    "        waypoint += directions[cmd] * arg\n",
    "    elif cmd[0] == \"F\":\n",
    "        cur_pos += waypoint * arg\n",
    "    elif cmd in [\"R\", \"L\"]:\n",
    "        tf = np.linalg.matrix_power(R, int(arg / 90))\n",
    "        if cmd == \"L\":\n",
    "            tf = np.linalg.inv(tf).astype(int)\n",
    "        waypoint = np.dot(tf, waypoint)\n",
    "print np.abs(cur_pos).sum()"
   ]
  }
 ]
}