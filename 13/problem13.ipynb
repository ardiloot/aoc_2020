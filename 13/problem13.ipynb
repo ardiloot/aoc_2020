{
 "metadata": {
  "language_info": {
   "codemirror_mode": {
    "name": "ipython",
    "version": 3
   },
   "file_extension": ".py",
   "mimetype": "text/x-python",
   "name": "python",
   "nbconvert_exporter": "python",
   "pygments_lexer": "ipython3",
   "version": "2.7.18-final"
  },
  "orig_nbformat": 2,
  "kernelspec": {
   "name": "python3",
   "display_name": "Python 2.7.18 64-bit ('python27': conda)",
   "metadata": {
    "interpreter": {
     "hash": "25195962bd000f2e9e4b44786b3a11452319fdf65a1a36d3a0fe239d86fdd9dd"
    }
   }
  }
 },
 "nbformat": 4,
 "nbformat_minor": 2,
 "cells": [
  {
   "cell_type": "code",
   "execution_count": null,
   "metadata": {},
   "outputs": [],
   "source": [
    "import numpy as np"
   ]
  },
  {
   "cell_type": "code",
   "execution_count": null,
   "metadata": {},
   "outputs": [],
   "source": [
    "with open(\"input.txt\", \"r\") as fin:\n",
    "    N = int(fin.readline().strip())\n",
    "    tmp = fin.readline().strip().split(\",\")\n",
    "    buses = np.array([int(a) for a in tmp if a != \"x\"], dtype=np.int64)\n",
    "    late_mins = np.array([i for i, a in enumerate(tmp) if a != \"x\"])"
   ]
  },
  {
   "cell_type": "code",
   "execution_count": null,
   "metadata": {},
   "outputs": [],
   "source": [
    "next_arrivals = (np.ceil(float(N) / buses) * buses).astype(int)\n",
    "bus_id = np.argmin(next_arrivals)\n",
    "print buses[bus_id] * (next_arrivals[bus_id] - N)"
   ]
  },
  {
   "cell_type": "code",
   "execution_count": null,
   "metadata": {},
   "outputs": [],
   "source": [
    "def egcd(a, b):\n",
    "    if a == 0:\n",
    "        return (b, 0, 1)\n",
    "    else:\n",
    "        g, x, y = egcd(b % a, a)\n",
    "        return (g, y - (b / a) * x, x)\n",
    "\n",
    "p_k, p_c = buses[0], late_mins[0]\n",
    "for bus_id, late_min in zip(buses[1:], late_mins[1:]):\n",
    "    a, b, c = p_k, -bus_id, -p_c - late_min\n",
    "    g, xg, yg = egcd(a, b)\n",
    "    x0, dx = xg * c / g, b / g\n",
    "    p_k, p_c = p_k * abs(dx), p_k * (x0 % abs(dx)) + p_c\n",
    "print(p_c)"
   ]
  }
 ]
}