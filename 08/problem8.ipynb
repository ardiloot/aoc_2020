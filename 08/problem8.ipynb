{
 "metadata": {
  "language_info": {
   "codemirror_mode": {
    "name": "ipython",
    "version": 3
   },
   "file_extension": ".py",
   "mimetype": "text/x-python",
   "name": "python",
   "nbconvert_exporter": "python",
   "pygments_lexer": "ipython3",
   "version": "2.7.18-final"
  },
  "orig_nbformat": 2,
  "kernelspec": {
   "name": "python3",
   "display_name": "Python 2.7.18 64-bit ('python27': conda)",
   "metadata": {
    "interpreter": {
     "hash": "25195962bd000f2e9e4b44786b3a11452319fdf65a1a36d3a0fe239d86fdd9dd"
    }
   }
  }
 },
 "nbformat": 4,
 "nbformat_minor": 2,
 "cells": [
  {
   "cell_type": "code",
   "execution_count": 1,
   "metadata": {},
   "outputs": [
    {
     "output_type": "stream",
     "name": "stdout",
     "text": [
      "636\n"
     ]
    }
   ],
   "source": [
    "instructions = []\n",
    "for line in open(\"input.txt\", \"r\"):\n",
    "    tmp = line.strip().split()\n",
    "    instructions.append((tmp[0], int(tmp[1])))\n",
    "print len(instructions)"
   ]
  },
  {
   "cell_type": "code",
   "execution_count": 2,
   "metadata": {},
   "outputs": [
    {
     "output_type": "stream",
     "name": "stdout",
     "text": [
      "(458, 1939)\n"
     ]
    }
   ],
   "source": [
    "# PART 1\n",
    "def run():\n",
    "    used = [False] * len(instructions)\n",
    "    acc, pos = 0, 0\n",
    "    while True:\n",
    "        if pos >= len(instructions) or pos < 0:\n",
    "            break\n",
    "        if used[pos]:\n",
    "            break\n",
    "        used[pos] = True\n",
    "        cmd, arg = instructions[pos]\n",
    "\n",
    "        if cmd == \"acc\":\n",
    "            acc += arg\n",
    "            pos += 1\n",
    "        elif cmd == \"jmp\":\n",
    "            pos += arg\n",
    "        elif cmd == \"nop\":\n",
    "            pos += 1\n",
    "        else:\n",
    "            raise NotImplementedError()\n",
    "    return pos, acc\n",
    "print run()"
   ]
  },
  {
   "cell_type": "code",
   "execution_count": 3,
   "metadata": {},
   "outputs": [
    {
     "output_type": "stream",
     "name": "stdout",
     "text": [
      "413 636 2212\n"
     ]
    }
   ],
   "source": [
    "# PART 2\n",
    "def swap(cmd, arg):\n",
    "    return ({\"jmp\": \"nop\", \"nop\": \"jmp\"}[cmd], arg)\n",
    "\n",
    "for i in range(len(instructions)):\n",
    "    if instructions[i][0] not in [\"nop\", \"jmp\"]:\n",
    "        continue\n",
    "    instructions[i] = swap(*instructions[i])\n",
    "    pos, acc = run()\n",
    "    instructions[i] = swap(*instructions[i])\n",
    "    if pos == len(instructions):\n",
    "        print i, pos, acc"
   ]
  },
  {
   "cell_type": "code",
   "execution_count": null,
   "metadata": {},
   "outputs": [],
   "source": []
  }
 ]
}